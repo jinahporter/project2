{
 "cells": [
  {
   "cell_type": "markdown",
   "metadata": {},
   "source": [
    "### Importing Dependencies"
   ]
  },
  {
   "cell_type": "code",
   "execution_count": 5,
   "metadata": {},
   "outputs": [],
   "source": [
    "import pandas as pd\n",
    "import os"
   ]
  },
  {
   "cell_type": "markdown",
   "metadata": {},
   "source": [
    "### Creating a function to import csv data from multiple countries"
   ]
  },
  {
   "cell_type": "code",
   "execution_count": 8,
   "metadata": {},
   "outputs": [],
   "source": [
    "def import_func(country_code):\n",
    "    \n",
    "    #Creating Path\n",
    "    \n",
    "    path = os.path.join('data',f'{country_code}_youtube_trending_data.csv')\n",
    "    \n",
    "    \n",
    "    #Storing dataframe to df\n",
    "    \n",
    "    df=pd.read_csv(path)\n",
    "    \n",
    "    #Remving unwanted columns below\n",
    "    \n",
    "    df=df[['video_id','title','publishedAt','channelTitle','categoryId','trending_date','view_count','likes','dislikes','comment_count','thumbnail_link']]\n",
    "    \n",
    "    \n",
    "    #Changing object types to date types for two columns\n",
    "    \n",
    "    df['publishedAt']=pd.to_datetime(df['publishedAt'])\n",
    "    df['trending_date']=pd.to_datetime(df['trending_date'])\n",
    "    \n",
    "    \n",
    "    #Removing time stamp from date\n",
    "    \n",
    "    df['publishedAt']=df['publishedAt'].dt.date \n",
    "    df['trending_date']=df['trending_date'].dt.date\n",
    "    \n",
    "    \n",
    "    return df"
   ]
  },
  {
   "cell_type": "markdown",
   "metadata": {},
   "source": [
    "### Creating all dataframes using import function"
   ]
  },
  {
   "cell_type": "code",
   "execution_count": 11,
   "metadata": {},
   "outputs": [],
   "source": [
    "#USA Dataframe\n",
    "df_us=import_func('US')\n",
    "\n",
    "#Brasil Dataframe\n",
    "df_br=import_func('BR')\n",
    "\n",
    "#Canada Dataframe\n",
    "df_ca=import_func('CA')\n",
    "\n",
    "#Mexico Dataframe\n",
    "df_mx=import_func('MX')"
   ]
  },
  {
   "cell_type": "code",
   "execution_count": null,
   "metadata": {},
   "outputs": [],
   "source": []
  }
 ],
 "metadata": {
  "kernelspec": {
   "display_name": "Python 3",
   "language": "python",
   "name": "python3"
  },
  "language_info": {
   "codemirror_mode": {
    "name": "ipython",
    "version": 3
   },
   "file_extension": ".py",
   "mimetype": "text/x-python",
   "name": "python",
   "nbconvert_exporter": "python",
   "pygments_lexer": "ipython3",
   "version": "3.7.3"
  }
 },
 "nbformat": 4,
 "nbformat_minor": 4
}
