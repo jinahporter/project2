{
 "cells": [
  {
   "cell_type": "markdown",
   "metadata": {},
   "source": [
    "### Importing Dependencies"
   ]
  },
  {
   "cell_type": "code",
   "execution_count": 2,
   "metadata": {},
   "outputs": [],
   "source": [
    "import pandas as pd\n",
    "import os\n",
    "import requests\n",
    "import json\n",
    "# from config import password\n",
    "from sqlalchemy import create_engine"
   ]
  },
  {
   "cell_type": "markdown",
   "metadata": {},
   "source": [
    "### Creating a function to import csv data from multiple countries"
   ]
  },
  {
   "cell_type": "code",
   "execution_count": 3,
   "metadata": {},
   "outputs": [],
   "source": [
    "def import_func(country_code):\n",
    "    \n",
    "    #Creating Path\n",
    "    \n",
    "    path = os.path.join('data',f'{country_code}_youtube_trending_data.csv')\n",
    "    \n",
    "    \n",
    "    #Storing dataframe to df\n",
    "    \n",
    "    df=pd.read_csv(path)\n",
    "    \n",
    "    #Remving unwanted columns below\n",
    "    \n",
    "    df=df[['video_id','title','publishedAt','channelTitle','categoryId','trending_date','view_count','likes','dislikes','comment_count','thumbnail_link']]\n",
    "    \n",
    "    \n",
    "    #Changing object types to date types for two columns\n",
    "    \n",
    "    df['publishedAt']=pd.to_datetime(df['publishedAt'])\n",
    "    df['trending_date']=pd.to_datetime(df['trending_date'])\n",
    "    \n",
    "    \n",
    "    #Removing time stamp from date\n",
    "    \n",
    "    df['publishedAt']=df['publishedAt'].dt.date \n",
    "    df['trending_date']=df['trending_date'].dt.date\n",
    "    \n",
    "    \n",
    "    with open(f'data/{country_code}_category_id.json', 'r') as read_file:\n",
    "        category_ids = json.load(read_file)\n",
    "\n",
    "        df=df.astype({'categoryId': 'str'})\n",
    "        \n",
    "    for index,row in df.iterrows():\n",
    "    \n",
    "        for entry in category_ids[\"items\"]:\n",
    "\n",
    "            if row[\"categoryId\"]==entry[\"id\"]:\n",
    "                df.at[index,\"categoryId\"]=entry[\"snippet\"][\"title\"]\n",
    "    \n",
    "    #Adding country Code as column\n",
    "    df['country']=f'{country_code}'\n",
    "    col_name='country'\n",
    "    \n",
    "    \n",
    "    #Moving country code to first column\n",
    "    first_col = df.pop(col_name)\n",
    "    df.insert(0,col_name,first_col)\n",
    "    \n",
    "    return df"
   ]
  },
  {
   "cell_type": "markdown",
   "metadata": {},
   "source": [
    "### Creating all dataframes using import function"
   ]
  },
  {
   "cell_type": "code",
   "execution_count": 4,
   "metadata": {},
   "outputs": [],
   "source": [
    "#USA Dataframe\n",
    "df_us=import_func('US')\n",
    "\n",
    "#Brasil Dataframe\n",
    "df_br=import_func('BR')\n",
    "\n",
    "#Canada Dataframe\n",
    "df_ca=import_func('CA')\n",
    "\n",
    "#Mexico Dataframe\n",
    "df_mx=import_func('MX')"
   ]
  },
  {
   "cell_type": "markdown",
   "metadata": {},
   "source": [
    "### Combining all data to one dataframe"
   ]
  },
  {
   "cell_type": "code",
   "execution_count": 10,
   "metadata": {},
   "outputs": [
    {
     "data": {
      "text/html": [
       "<div>\n",
       "<style scoped>\n",
       "    .dataframe tbody tr th:only-of-type {\n",
       "        vertical-align: middle;\n",
       "    }\n",
       "\n",
       "    .dataframe tbody tr th {\n",
       "        vertical-align: top;\n",
       "    }\n",
       "\n",
       "    .dataframe thead th {\n",
       "        text-align: right;\n",
       "    }\n",
       "</style>\n",
       "<table border=\"1\" class=\"dataframe\">\n",
       "  <thead>\n",
       "    <tr style=\"text-align: right;\">\n",
       "      <th></th>\n",
       "      <th>country</th>\n",
       "      <th>video_id</th>\n",
       "      <th>title</th>\n",
       "      <th>publishedAt</th>\n",
       "      <th>channelTitle</th>\n",
       "      <th>categoryId</th>\n",
       "      <th>trending_date</th>\n",
       "      <th>view_count</th>\n",
       "      <th>likes</th>\n",
       "      <th>dislikes</th>\n",
       "      <th>comment_count</th>\n",
       "      <th>thumbnail_link</th>\n",
       "    </tr>\n",
       "  </thead>\n",
       "  <tbody>\n",
       "    <tr>\n",
       "      <td>0</td>\n",
       "      <td>US</td>\n",
       "      <td>3C66w5Z0ixs</td>\n",
       "      <td>I ASKED HER TO BE MY GIRLFRIEND...</td>\n",
       "      <td>2020-08-11</td>\n",
       "      <td>Brawadis</td>\n",
       "      <td>People &amp; Blogs</td>\n",
       "      <td>2020-08-12</td>\n",
       "      <td>1514614</td>\n",
       "      <td>156908</td>\n",
       "      <td>5855</td>\n",
       "      <td>35313</td>\n",
       "      <td>https://i.ytimg.com/vi/3C66w5Z0ixs/default.jpg</td>\n",
       "    </tr>\n",
       "    <tr>\n",
       "      <td>1</td>\n",
       "      <td>US</td>\n",
       "      <td>M9Pmf9AB4Mo</td>\n",
       "      <td>Apex Legends | Stories from the Outlands – “Th...</td>\n",
       "      <td>2020-08-11</td>\n",
       "      <td>Apex Legends</td>\n",
       "      <td>Gaming</td>\n",
       "      <td>2020-08-12</td>\n",
       "      <td>2381688</td>\n",
       "      <td>146739</td>\n",
       "      <td>2794</td>\n",
       "      <td>16549</td>\n",
       "      <td>https://i.ytimg.com/vi/M9Pmf9AB4Mo/default.jpg</td>\n",
       "    </tr>\n",
       "    <tr>\n",
       "      <td>2</td>\n",
       "      <td>US</td>\n",
       "      <td>J78aPJ3VyNs</td>\n",
       "      <td>I left youtube for a month and THIS is what ha...</td>\n",
       "      <td>2020-08-11</td>\n",
       "      <td>jacksepticeye</td>\n",
       "      <td>Entertainment</td>\n",
       "      <td>2020-08-12</td>\n",
       "      <td>2038853</td>\n",
       "      <td>353787</td>\n",
       "      <td>2628</td>\n",
       "      <td>40221</td>\n",
       "      <td>https://i.ytimg.com/vi/J78aPJ3VyNs/default.jpg</td>\n",
       "    </tr>\n",
       "    <tr>\n",
       "      <td>3</td>\n",
       "      <td>US</td>\n",
       "      <td>kXLn3HkpjaA</td>\n",
       "      <td>XXL 2020 Freshman Class Revealed - Official An...</td>\n",
       "      <td>2020-08-11</td>\n",
       "      <td>XXL</td>\n",
       "      <td>Music</td>\n",
       "      <td>2020-08-12</td>\n",
       "      <td>496771</td>\n",
       "      <td>23251</td>\n",
       "      <td>1856</td>\n",
       "      <td>7647</td>\n",
       "      <td>https://i.ytimg.com/vi/kXLn3HkpjaA/default.jpg</td>\n",
       "    </tr>\n",
       "    <tr>\n",
       "      <td>4</td>\n",
       "      <td>US</td>\n",
       "      <td>VIUo6yapDbc</td>\n",
       "      <td>Ultimate DIY Home Movie Theater for The LaBran...</td>\n",
       "      <td>2020-08-11</td>\n",
       "      <td>Mr. Kate</td>\n",
       "      <td>Howto &amp; Style</td>\n",
       "      <td>2020-08-12</td>\n",
       "      <td>1123889</td>\n",
       "      <td>45802</td>\n",
       "      <td>964</td>\n",
       "      <td>2196</td>\n",
       "      <td>https://i.ytimg.com/vi/VIUo6yapDbc/default.jpg</td>\n",
       "    </tr>\n",
       "  </tbody>\n",
       "</table>\n",
       "</div>"
      ],
      "text/plain": [
       "  country     video_id                                              title  \\\n",
       "0      US  3C66w5Z0ixs                 I ASKED HER TO BE MY GIRLFRIEND...   \n",
       "1      US  M9Pmf9AB4Mo  Apex Legends | Stories from the Outlands – “Th...   \n",
       "2      US  J78aPJ3VyNs  I left youtube for a month and THIS is what ha...   \n",
       "3      US  kXLn3HkpjaA  XXL 2020 Freshman Class Revealed - Official An...   \n",
       "4      US  VIUo6yapDbc  Ultimate DIY Home Movie Theater for The LaBran...   \n",
       "\n",
       "  publishedAt   channelTitle      categoryId trending_date  view_count  \\\n",
       "0  2020-08-11       Brawadis  People & Blogs    2020-08-12     1514614   \n",
       "1  2020-08-11   Apex Legends          Gaming    2020-08-12     2381688   \n",
       "2  2020-08-11  jacksepticeye   Entertainment    2020-08-12     2038853   \n",
       "3  2020-08-11            XXL           Music    2020-08-12      496771   \n",
       "4  2020-08-11       Mr. Kate   Howto & Style    2020-08-12     1123889   \n",
       "\n",
       "    likes  dislikes  comment_count  \\\n",
       "0  156908      5855          35313   \n",
       "1  146739      2794          16549   \n",
       "2  353787      2628          40221   \n",
       "3   23251      1856           7647   \n",
       "4   45802       964           2196   \n",
       "\n",
       "                                   thumbnail_link  \n",
       "0  https://i.ytimg.com/vi/3C66w5Z0ixs/default.jpg  \n",
       "1  https://i.ytimg.com/vi/M9Pmf9AB4Mo/default.jpg  \n",
       "2  https://i.ytimg.com/vi/J78aPJ3VyNs/default.jpg  \n",
       "3  https://i.ytimg.com/vi/kXLn3HkpjaA/default.jpg  \n",
       "4  https://i.ytimg.com/vi/VIUo6yapDbc/default.jpg  "
      ]
     },
     "execution_count": 10,
     "metadata": {},
     "output_type": "execute_result"
    }
   ],
   "source": [
    "#Creating a varible to add all dfs\n",
    "country_df=[df_us,df_br,df_ca,df_mx]\n",
    "\n",
    "df_main = pd.concat(country_df)"
   ]
  },
  {
   "cell_type": "markdown",
   "metadata": {},
   "source": [
    "### Creating SQL engine to connnect to Postgres"
   ]
  },
  {
   "cell_type": "code",
   "execution_count": 12,
   "metadata": {},
   "outputs": [],
   "source": [
    "# #Connect to Database\n",
    "\n",
    "# pg_user = 'postgres'\n",
    "# pg_password=password\n",
    "# db_name = 'youtube_database'\n",
    "# connection_string = f'{pg_user}:{password}@localhost:5432/{db_name}'\n",
    "# engine=create_engine(f'postgresql://{connection_string}')\n",
    "\n",
    "#Connect to Database - Alternative\n",
    "dbuser = 'postgres'\n",
    "dbpassword =password\n",
    "dbhost = 'localhost'\n",
    "dbport = '5432'\n",
    "dbname= 'youtube_database'\n",
    "connection_string2 = f'{dbuser}:{dbpassword}@database-1.cvmfiiilpm7y.us-east-1.rds.amazonaws.com:{dbport}/{dbname}'\n",
    "engine=create_engine(f'postgresql://{connection_string2}')"
   ]
  },
  {
   "cell_type": "code",
   "execution_count": 13,
   "metadata": {},
   "outputs": [
    {
     "data": {
      "text/plain": [
       "[]"
      ]
     },
     "execution_count": 13,
     "metadata": {},
     "output_type": "execute_result"
    }
   ],
   "source": [
    "engine.table_names()"
   ]
  },
  {
   "cell_type": "code",
   "execution_count": 14,
   "metadata": {},
   "outputs": [],
   "source": [
    "df_main.to_sql(name='youtube_table',con=engine,if_exists='append',index=False)"
   ]
  },
  {
   "cell_type": "code",
   "execution_count": null,
   "metadata": {},
   "outputs": [],
   "source": []
  }
 ],
 "metadata": {
  "kernelspec": {
   "display_name": "Python 3",
   "language": "python",
   "name": "python3"
  },
  "language_info": {
   "codemirror_mode": {
    "name": "ipython",
    "version": 3
   },
   "file_extension": ".py",
   "mimetype": "text/x-python",
   "name": "python",
   "nbconvert_exporter": "python",
   "pygments_lexer": "ipython3",
   "version": "3.7.4"
  }
 },
 "nbformat": 4,
 "nbformat_minor": 4
}
