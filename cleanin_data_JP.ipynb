{
 "cells": [
  {
   "cell_type": "code",
   "execution_count": 10,
   "metadata": {},
   "outputs": [],
   "source": [
    "import pandas as pd\n",
    "import os\n",
    "import requests\n",
    "import json\n",
    "from config import password\n",
    "from sqlalchemy import create_engine"
   ]
  },
  {
   "cell_type": "code",
   "execution_count": 6,
   "metadata": {},
   "outputs": [],
   "source": [
    "def import_func(country_code):\n",
    "    \n",
    "    #Creating Path\n",
    "    \n",
    "    path = os.path.join('data',f'{country_code}_youtube_trending_data.csv')\n",
    "    \n",
    "    \n",
    "    #Storing dataframe to df\n",
    "    \n",
    "    df=pd.read_csv(path)\n",
    "    \n",
    "    #Remving unwanted columns below\n",
    "    \n",
    "    df=df[['video_id','title','publishedAt','channelTitle','categoryId','trending_date','view_count','likes','dislikes','comment_count','thumbnail_link']]\n",
    "    \n",
    "    \n",
    "    #Changing object types to date types for two columns\n",
    "    \n",
    "    df['publishedAt']=pd.to_datetime(df['publishedAt'])\n",
    "    df['trending_date']=pd.to_datetime(df['trending_date'])\n",
    "    \n",
    "    \n",
    "    #Removing time stamp from date\n",
    "    \n",
    "    df['publishedAt']=df['publishedAt'].dt.date \n",
    "    df['trending_date']=df['trending_date'].dt.date\n",
    "    \n",
    "    \n",
    "    with open(f'data/{country_code}_category_id.json', 'r') as read_file:\n",
    "        category_ids = json.load(read_file)\n",
    "\n",
    "        df=df.astype({'categoryId': 'str'})\n",
    "        \n",
    "    for index,row in df.iterrows():\n",
    "    \n",
    "        for entry in category_ids[\"items\"]:\n",
    "\n",
    "            if row[\"categoryId\"]==entry[\"id\"]:\n",
    "                df.at[index,\"categoryId\"]=entry[\"snippet\"][\"title\"]\n",
    "    \n",
    "    #Adding country Code as column\n",
    "    df['country']=f'{country_code}'\n",
    "    col_name='country'\n",
    "    \n",
    "    \n",
    "    #Moving country code to first column\n",
    "    first_col = df.pop(col_name)\n",
    "    df.insert(0,col_name,first_col)\n",
    "    \n",
    "    return df"
   ]
  },
  {
   "cell_type": "code",
   "execution_count": 7,
   "metadata": {},
   "outputs": [],
   "source": [
    "#USA Dataframe\n",
    "df_us=import_func('US')\n",
    "\n",
    "#Brasil Dataframe\n",
    "df_br=import_func('BR')\n",
    "\n",
    "#Canada Dataframe\n",
    "df_ca=import_func('CA')\n",
    "\n",
    "#Mexico Dataframe\n",
    "df_mx=import_func('MX')"
   ]
  },
  {
   "cell_type": "code",
   "execution_count": 8,
   "metadata": {},
   "outputs": [],
   "source": [
    "#Creating a varible to add all dfs\n",
    "country_df=[df_us,df_br,df_ca,df_mx]\n",
    "\n",
    "df_main = pd.concat(country_df)"
   ]
  },
  {
   "cell_type": "code",
   "execution_count": 11,
   "metadata": {},
   "outputs": [],
   "source": [
    "# #Connect to Database\n",
    "\n",
    "pg_user = 'postgres'\n",
    "password=password\n",
    "db_name = 'youtube_database'\n",
    "connection_string = f'{pg_user}:{password}@localhost:5432/{db_name}'\n",
    "engine=create_engine(f'postgresql://{connection_string}')\n",
    "\n",
    "#Connect to Database - Alternative\n",
    "#dbuser = 'postgres'\n",
    "#dbpassword = 'Sm6Jc5bqbiNQdsVAo7eN'\n",
    "#dbhost = 'localhost'\n",
    "#dbport = '5432'\n",
    "#dbname= 'youtube_database'\n",
    "#connection_string2 = f'{dbuser}:{dbpassword}@database-1.cvmfiiilpm7y.us-east-1.rds.amazonaws.com:{dbport}/{dbname}'\n",
    "#engine=create_engine(f'postgresql://{connection_string2}')"
   ]
  },
  {
   "cell_type": "code",
   "execution_count": 12,
   "metadata": {},
   "outputs": [
    {
     "data": {
      "text/plain": [
       "['youtube_table']"
      ]
     },
     "execution_count": 12,
     "metadata": {},
     "output_type": "execute_result"
    }
   ],
   "source": [
    "engine.table_names()"
   ]
  },
  {
   "cell_type": "code",
   "execution_count": 14,
   "metadata": {},
   "outputs": [],
   "source": [
    "df_main.to_sql(name='youtube_table',con=engine,if_exists='append',index=False)"
   ]
  },
  {
   "cell_type": "code",
   "execution_count": null,
   "metadata": {},
   "outputs": [],
   "source": []
  }
 ],
 "metadata": {
  "kernelspec": {
   "display_name": "Python 3",
   "language": "python",
   "name": "python3"
  },
  "language_info": {
   "codemirror_mode": {
    "name": "ipython",
    "version": 3
   },
   "file_extension": ".py",
   "mimetype": "text/x-python",
   "name": "python",
   "nbconvert_exporter": "python",
   "pygments_lexer": "ipython3",
   "version": "3.8.3"
  }
 },
 "nbformat": 4,
 "nbformat_minor": 4
}
